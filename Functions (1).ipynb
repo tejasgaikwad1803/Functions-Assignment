{
  "nbformat": 4,
  "nbformat_minor": 0,
  "metadata": {
    "colab": {
      "provenance": []
    },
    "kernelspec": {
      "name": "python3",
      "display_name": "Python 3"
    },
    "language_info": {
      "name": "python"
    }
  },
  "cells": [
    {
      "cell_type": "markdown",
      "source": [
        "Q-1.What is the difference between a function and a method in Python?\n",
        "   \n",
        "   ->   Function:\n",
        "\n",
        "A function is defined using the def keyword.\n",
        "\n",
        "It is independent and can be used anywhere in the code.\n",
        "\n",
        "It is not associated with any  object (class instance).\n",
        "\n",
        "ex.\n",
        "\n",
        "def greet(name):\n",
        "    return \"Hello \" + name\n",
        "\n",
        "print(greet(\"Tejas\"))  # Output: Hello Tejas\n",
        "\n",
        "\n",
        "\n",
        "\n",
        "  Method:\n",
        "\n",
        "  A method is a function that is associated with an object.\n",
        "\n",
        "  It is defined inside a class.\n",
        "\n",
        "  It always takes self as the first parameter, which refers to the instance of the class.\n",
        "\n",
        "  ex.\n",
        "\n",
        "class Greeter:\n",
        "    def greet(self, name):  # 'self' refers to the object\n",
        "        return \"Hello \" + name\n",
        "\n",
        "obj = Greeter()\n",
        "print(obj.greet(\"Tejas\"))  # Output: Hello Tejas\n",
        "\n",
        "\n",
        "\n",
        "Q-2  Explain the concept of function arguments and parameters in Python?\n",
        "\n",
        "\n",
        "  ->  Parameters are placeholders in the function definition.\n",
        "\n",
        "Arguments are the actual values passed to the function when calling it.\n",
        "\n",
        "ex.\n",
        "\n",
        "def greet(name):  # 'name' is a parameter\n",
        "    print(\"Hello\", name)\n",
        "\n",
        "greet(\"Tejas\")     # \"Tejas\" is an argument\n",
        "\n",
        "\n",
        "Q-3.What are the different ways to define and call a function in Python?\n",
        "\n",
        "  ->  In Python, functions can be defined using the def keyword for regular functions or lambda for one-line anonymous functions. They can be called by writing the function name followed by parentheses with arguments, like add(2, 3). Functions can use default values, keyword arguments, or accept multiple arguments using *args and **kwargs. They can also be passed as values or returned from other functions.\n",
        "\n",
        "example\n",
        "# 1. Regular function using def\n",
        "def add(a, b):\n",
        "    return a + b\n",
        "\n",
        "print(add(2, 3))  # Output: 5\n",
        "\n",
        "# 2. Function with default argument\n",
        "def greet(name=\"Guest\"):\n",
        "    return \"Hello \" + name\n",
        "\n",
        "print(greet())         # Output: Hello Guest\n",
        "print(greet(\"Tejas\"))  # Output: Hello Tejas\n",
        "\n",
        "# 3. Lambda (anonymous) function\n",
        "multiply = lambda x, y: x * y\n",
        "print(multiply(4, 5))  # Output: 20\n",
        "\n",
        "# 4. Function with *args (variable-length arguments)\n",
        "def total(*nums):\n",
        "    return sum(nums)\n",
        "\n",
        "print(total(1, 2, 3, 4))  # Output: 10\n",
        "\n",
        "# 5. Map\n",
        "def add(x):\n",
        "    return x + 10\n",
        "\n",
        "l = [1, 2, 3, 4]\n",
        "\n",
        "a = list(map(add, l))\n",
        "print(a)\n",
        "\n",
        "# 6. filter\n",
        "s = [\"Ajay\", \"pwskills\",\"data science\"]\n",
        "list(filter(lambda x :len(x)>4,s))\n",
        "\n",
        "\n",
        "Q-4. What is the purpose of the `return` statement in a Python function?\n",
        "\n",
        "  -> The return statement in Python is used to send a value back from a function to the place where it was called. It ends the function and provides the result for further use. Without return, the function returns None by default.\n",
        "  ex.\n",
        "  def add(a, b):\n",
        "    return a + b\n",
        "\n",
        "print(add(2, 3))  # Output: 5\n",
        "\n",
        "Q-5 What are iterators in Python and how do they differ from iterables?\n",
        "\n",
        "  -> iterable is python object that is capable of returning its memebers one at a time\n",
        "\n",
        "  iterators is python object representing a stream of a data one by one\n",
        "\n",
        "  Iterable: Can be passed to a loop (e.g., for loop).\n",
        "\n",
        "Iterator: Gives the next item from the iterable and stops with StopIteration when done.\n",
        "\n",
        "ex.\n",
        "# Iterable\n",
        "nums = [1, 2, 3]\n",
        "\n",
        "# Create an iterator from the iterable\n",
        "it = iter(nums)\n",
        "\n",
        "print(next(it))  # Output: 1\n",
        "print(next(it))  # Output: 2\n",
        "\n",
        "Q-6.Explain the concept of generators in Python and how they are defined.?\n",
        "\n",
        "\n",
        "  -> In Python, generators are special functions that return values one at a time using the yield keyword instead of return\n",
        "\n",
        "  They are memory-efficient and useful for working with large data because they generate values on the fly.\n",
        "\n",
        "  ex.\n",
        "  def gen():\n",
        "    yield 1\n",
        "    yield 2\n",
        "\n",
        "for i in gen():\n",
        "    print(i)\n",
        "#output : 1 2\n",
        "\n",
        "\n",
        "Q-7  What are the advantages of using generators over regular functions?\n",
        "\n",
        "  -> Generators simplify code for iterators without needing __iter__() and __next__() methods.\n",
        "\n",
        "  Generators yield items one at a time, so they don't store the entire result in memory\n",
        "\n",
        "  They start producing values immediately without waiting to compute the entire result.\n",
        "\n",
        "\n",
        "Q-8 What is a lambda function in Python and when is it typically used?\n",
        "\n",
        "  -> lambda is anonymous function & short hand function\n",
        "\n",
        "   It can take any number of arguments but has only one expression. The result of that expression is automatically returned.\n",
        "\n",
        "  no need to use return statement & def keyword\n",
        "\n",
        "  syntax : lambda arguments : expressions\n",
        "\n",
        "  #ex. Lambda function\n",
        "  multiply = lambda x, y: x * y\n",
        "\n",
        "  print(multiply(4, 5))  # Output: 20\n",
        "\n",
        "Q-9 Explain the purpose and usage of the `map()` function in Python.?\n",
        "\n",
        "  -> map() function executes specified function for each of item of an iteration\n",
        "\n",
        "  syntax : map(func, iterables)\n",
        "\n",
        "  It is useful when you want to perform the same operation on every element of a collection without using a loop.\n",
        "\n",
        "ex.\n",
        "\n",
        "nums = [1, 2, 3, 4]\n",
        "\n",
        "result = map(lambda x: x * 2, nums)\n",
        "\n",
        "print(list(result))  # Output: [2, 4, 6, 8]\n",
        "\n",
        "Q-10  What is the difference between `map()`, `reduce()`, and `filter()` functions in Python?\n",
        "\n",
        "  -> map() : map() function executes specified function for each of item of an iteration\n",
        "\n",
        "  syntax : map(func, iterables)\n",
        "\n",
        "ex.\n",
        "\n",
        "  nums = [1, 2, 3]\n",
        "\n",
        " list(map(lambda x: x * 2, nums))\n",
        "\n",
        "\n",
        " ->reduce() : reduce() means reduction or folding\n",
        "\n",
        " this method takes always 2 arguments\n",
        "\n",
        "\n",
        "syntax : reduce(func, iterables)\n",
        "\n",
        "ex.\n",
        "\n",
        "from functools import reduce\n",
        "\n",
        "nums = [1, 2, 3, 4]\n",
        "result = reduce(lambda x, y: x + y, nums)\n",
        "print(result)  # 10\n",
        "\n",
        "\n",
        "-> filter() :  Filters items from an iterable based on a condition.\n",
        "\n",
        "syntax : filter(func, iterable)\n",
        "\n",
        "ex.\n",
        "\n",
        "nums = [1, 2, 3, 4]\n",
        "result = filter(lambda x: x % 2 == 0, nums)\n",
        "print(list(result))  # [2, 4]\n",
        "\n",
        "\n",
        "Q-11. Using pen & Paper write the internal mechanism for sum operation using  reduce function on this given\n",
        "list:[47,11,42,13];\n",
        "\n",
        "  -> from functools import reduce\n",
        "    \n",
        "  reduce(lambda x, y: x + y, [47, 11, 42, 13]) # 113\n",
        "\n",
        "i cannot attch i write below how it works step by step\n",
        "\n",
        "  1st step\n",
        "\n",
        "  x = 47\n",
        "\n",
        "  y = 11\n",
        "\n",
        "  result = x + y = 58\n",
        "\n",
        "  2nd step\n",
        "\n",
        "  x = 58 (from previous result)\n",
        "\n",
        "  y = 42\n",
        "\n",
        "  result = x + y = 100\n",
        "\n",
        "  3rd step\n",
        "\n",
        "  x = 100 (from previous result)\n",
        "\n",
        "y = 13\n",
        "\n",
        "result = x + y = 113\n",
        "\n",
        "\n",
        "\n",
        "\n",
        "\n",
        "\n",
        "\n",
        "\n",
        "\n",
        "\n",
        "\n",
        "\n",
        "\n",
        "\n",
        "\n",
        "\n",
        "\n",
        "\n",
        "\n",
        "\n",
        "\n",
        "\n"
      ],
      "metadata": {
        "id": "hKYy7PfiTsqh"
      }
    },
    {
      "cell_type": "code",
      "source": [
        "# Q-1. Write a Python function that takes a list of numbers as input and returns the sum of all even numbers in\n",
        "# the list\n",
        "def sum_even_numbers(numbers):\n",
        "    total = 0\n",
        "    for num in numbers:\n",
        "        if num % 2 == 0:\n",
        "            total += num\n",
        "    return total\n",
        "\n",
        "# Example usage\n",
        "nums = [10, 15, 22, 33, 40]\n",
        "print(sum_even_numbers(nums))\n",
        "\n"
      ],
      "metadata": {
        "colab": {
          "base_uri": "https://localhost:8080/"
        },
        "id": "e8k-0NIYi4cm",
        "outputId": "a8ae90d3-7683-44de-ec88-c45b18bb6baf"
      },
      "execution_count": null,
      "outputs": [
        {
          "output_type": "stream",
          "name": "stdout",
          "text": [
            "72\n"
          ]
        }
      ]
    },
    {
      "cell_type": "code",
      "source": [
        "# Q-2  Create a Python function that accepts a string and returns the reverse of that string\n",
        "\n",
        "def reverse_str(text):\n",
        "    return text[::-1]\n",
        "\n",
        "# Example usage\n",
        "print(reverse_str(\"tejas\"))\n"
      ],
      "metadata": {
        "colab": {
          "base_uri": "https://localhost:8080/"
        },
        "id": "v1jDeJfwjzTk",
        "outputId": "9da955ba-45a8-4739-b824-30e9038d3c3a"
      },
      "execution_count": null,
      "outputs": [
        {
          "output_type": "stream",
          "name": "stdout",
          "text": [
            "sajet\n"
          ]
        }
      ]
    },
    {
      "cell_type": "code",
      "source": [
        "#Q-3  Implement a Python function that takes a list of integers and returns a new list containing the squares of\n",
        "# each number.\n",
        "\n",
        "def square_list(numbers):\n",
        "    return [x**2 for x in numbers]\n",
        "\n",
        "# Example usage\n",
        "nums = [1, 2, 3, 4, 5]\n",
        "print(square_list(nums))\n"
      ],
      "metadata": {
        "colab": {
          "base_uri": "https://localhost:8080/"
        },
        "id": "NkR9AbyJkopG",
        "outputId": "5b5d1d40-0d05-4e0a-dbb6-5e77f96257dc"
      },
      "execution_count": null,
      "outputs": [
        {
          "output_type": "stream",
          "name": "stdout",
          "text": [
            "[1, 4, 9, 16, 25]\n"
          ]
        }
      ]
    },
    {
      "cell_type": "code",
      "source": [
        "# Q-4 Write a Python function that checks if a given number is prime or not from 1 to 200\n",
        "def is_prime(n):\n",
        "    if n <= 1:\n",
        "        return False\n",
        "    for i in range(2, int(n**0.5)+1):\n",
        "        if n % i == 0:\n",
        "            return False\n",
        "    return True\n",
        "\n",
        "# Example\n",
        "print(is_prime(97))\n"
      ],
      "metadata": {
        "colab": {
          "base_uri": "https://localhost:8080/"
        },
        "id": "SgmNqB8IlF_G",
        "outputId": "ce10fdcc-4443-44ae-c91a-4b4f11b4248a"
      },
      "execution_count": null,
      "outputs": [
        {
          "output_type": "stream",
          "name": "stdout",
          "text": [
            "True\n"
          ]
        }
      ]
    },
    {
      "cell_type": "code",
      "source": [
        "#Q-5 Create an iterator class in Python that generates the Fibonacci sequence up to a specified number of\n",
        "# terms\n",
        "class Fibonacci:\n",
        "    def __init__(self, n):\n",
        "        self.n = n\n",
        "        self.a, self.b = 0, 1\n",
        "        self.count = 0\n",
        "\n",
        "    def __iter__(self):\n",
        "        return self\n",
        "\n",
        "    def __next__(self):\n",
        "        if self.count >= self.n:\n",
        "            raise StopIteration\n",
        "        self.count += 1\n",
        "        val = self.a\n",
        "        self.a, self.b = self.b, self.a + self.b\n",
        "        return val\n",
        "\n",
        "# Example\n",
        "for i in Fibonacci(5):\n",
        "    print(i, end=' ')\n"
      ],
      "metadata": {
        "colab": {
          "base_uri": "https://localhost:8080/"
        },
        "id": "YIau4KOylWf_",
        "outputId": "1a06b5bf-75ee-4c12-ed54-1e243bdde334"
      },
      "execution_count": null,
      "outputs": [
        {
          "output_type": "stream",
          "name": "stdout",
          "text": [
            "0 1 1 2 3 "
          ]
        }
      ]
    },
    {
      "cell_type": "code",
      "source": [
        "#Q-6  Write a generator function in Python that yields the powers of 2 up to a given exponent.\n",
        "def powers_of_two(n):\n",
        "    for i in range(n + 1):\n",
        "        yield 2 ** i\n",
        "\n",
        "# Example usage\n",
        "for num in powers_of_two(5):\n",
        "    print(num, end=' ')  # Output: 1 2 4 8 16 32\n"
      ],
      "metadata": {
        "colab": {
          "base_uri": "https://localhost:8080/"
        },
        "id": "f4lZwqQzpeMv",
        "outputId": "7d6f7b7f-288d-40d3-b7c5-73f8afbafb7c"
      },
      "execution_count": null,
      "outputs": [
        {
          "output_type": "stream",
          "name": "stdout",
          "text": [
            "1 2 4 8 16 32 "
          ]
        }
      ]
    },
    {
      "cell_type": "code",
      "source": [
        "# Q-7  Implement a generator function that reads a file line by line and yields each line as a string\n",
        "def read_file_line_by_line(file_path):\n",
        "    \"\"\"Generator function to read a file line by line.\"\"\"\n",
        "    with open(file_path, 'r') as file:\n",
        "        for line in file:\n",
        "            yield line.rstrip('\\n')  # Remove trailing newline character\n"
      ],
      "metadata": {
        "id": "hTpVY2HKpuD_"
      },
      "execution_count": 1,
      "outputs": []
    },
    {
      "cell_type": "code",
      "source": [
        "# Q-8  Use a lambda function in Python to sort a list of tuples based on the second element of each tuple\n",
        "data = [(1, 4), (3, 1), (2, 5), (4, 2)]\n",
        "list(sorted(data, key=lambda x: x[1]))\n",
        "\n"
      ],
      "metadata": {
        "colab": {
          "base_uri": "https://localhost:8080/"
        },
        "id": "hvs8KFj3qDTq",
        "outputId": "27ed09fb-bb2b-459c-80c3-e1e56397e784"
      },
      "execution_count": null,
      "outputs": [
        {
          "output_type": "execute_result",
          "data": {
            "text/plain": [
              "[(3, 1), (4, 2), (1, 4), (2, 5)]"
            ]
          },
          "metadata": {},
          "execution_count": 9
        }
      ]
    },
    {
      "cell_type": "code",
      "source": [
        "# Q-9 Write a Python program that uses `map()` to convert a list of temperatures from Celsius to Fahrenheit.\n",
        "\n",
        "celsius = [0, 20, 37, 100]\n",
        "\n",
        "fahrenheit = list(map(lambda c: (c * 9/5) + 32, celsius))\n",
        "\n",
        "print(fahrenheit)\n"
      ],
      "metadata": {
        "colab": {
          "base_uri": "https://localhost:8080/"
        },
        "id": "04upMjY3qgVD",
        "outputId": "9eb44e78-9d85-4a9f-c1c3-5d22845b1d10"
      },
      "execution_count": null,
      "outputs": [
        {
          "output_type": "stream",
          "name": "stdout",
          "text": [
            "[32.0, 68.0, 98.6, 212.0]\n"
          ]
        }
      ]
    },
    {
      "cell_type": "code",
      "source": [
        "#Q-10 Create a Python program that uses `filter()` to remove all the vowels from a given string.\n",
        "\n",
        "def remove_vowels(text):\n",
        "    vowels = 'aeiouAEIOU'\n",
        "    return ''.join(filter(lambda x: x not in vowels, text))\n",
        "\n",
        "print(remove_vowels(\"Hello World\"))\n"
      ],
      "metadata": {
        "colab": {
          "base_uri": "https://localhost:8080/"
        },
        "id": "LQLixP--rCNa",
        "outputId": "ce44ffe1-b06f-426e-dee5-1fdf42d779b8"
      },
      "execution_count": null,
      "outputs": [
        {
          "output_type": "stream",
          "name": "stdout",
          "text": [
            "Hll Wrld\n"
          ]
        }
      ]
    },
    {
      "cell_type": "code",
      "source": [
        "# Q-11\n",
        "\n",
        "orders = [\n",
        "    [34587, \"Learning Python, Mark Lutz\", 4, 40.95],\n",
        "    [98762, \"Programming Python, Mark Lutz\", 5, 56.80],\n",
        "    [77226, \"Head First Python, Paul Barry\", 3, 32.95],\n",
        "    [88112, \"Einführung in Python3, Bernd Klein\", 3, 24.99]\n",
        "]\n",
        "\n",
        "\n",
        "result = list(map(lambda order: (\n",
        "    order[0],\n",
        "    round(order[2] * order[3] + 10 if order[2] * order[3] < 100 else order[2] * order[3], 2)\n",
        "), orders))\n",
        "\n",
        "\n",
        "result"
      ],
      "metadata": {
        "colab": {
          "base_uri": "https://localhost:8080/"
        },
        "id": "NvF4TdLKrY6T",
        "outputId": "b652728e-bc05-4f37-e514-a058e2c46cfb"
      },
      "execution_count": null,
      "outputs": [
        {
          "output_type": "execute_result",
          "data": {
            "text/plain": [
              "[(34587, 163.8), (98762, 284.0), (77226, 108.85), (88112, 84.97)]"
            ]
          },
          "metadata": {},
          "execution_count": 13
        }
      ]
    }
  ]
}